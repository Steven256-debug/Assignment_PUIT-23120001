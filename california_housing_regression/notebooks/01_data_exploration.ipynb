{
 "cells": [
  {
   "cell_type": "markdown",
   "id": "119db583",
   "metadata": {},
   "source": [
    "# California Housing Dataset Exploratory Data Analysis\n",
    "\n",
    "This notebook performs exploratory data analysis on the California Housing dataset. We'll examine:\n",
    "1. Data loading and basic information\n",
    "2. Missing values check\n",
    "3. Feature distributions\n",
    "4. Correlation analysis\n",
    "5. Geographic distribution of house prices"
   ]
  },
  {
   "cell_type": "code",
   "execution_count": null,
   "id": "9a3dceb7",
   "metadata": {},
   "outputs": [],
   "source": [
    "# Data manipulation and numerical operations\n",
    "import pandas as pd\n",
    "import numpy as np\n",
    "\n",
    "# Data visualization\n",
    "import matplotlib.pyplot as plt\n",
    "import seaborn as sns\n",
    "\n",
    "# Machine learning\n",
    "from sklearn.datasets import fetch_california_housing\n",
    "\n",
    "# Suppress warnings\n",
    "import warnings\n",
    "warnings.filterwarnings('ignore', category=UserWarning)\n",
    "warnings.filterwarnings('ignore', category=FutureWarning)\n",
    "\n",
    "# Set visualization style\n",
    "plt.style.use('seaborn')\n",
    "sns.set_palette(\"husl\")\n",
    "plt.rcParams['figure.figsize'] = [10, 6]  # Set default figure size"
   ]
  },
  {
   "cell_type": "markdown",
   "id": "436c8fec",
   "metadata": {},
   "source": [
    "## 1. Load and Examine Data\n",
    "Let's load the California Housing dataset and examine its basic properties."
   ]
  },
  {
   "cell_type": "code",
   "execution_count": null,
   "id": "74d7cc8b",
   "metadata": {},
   "outputs": [],
   "source": [
    "# Load the dataset\n",
    "data = fetch_california_housing(as_frame=True)\n",
    "df = data.frame\n",
    "\n",
    "# Rename columns for better readability\n",
    "df.columns = ['Median_Income', 'House_Age', 'Average_Rooms', 'Average_Bedrooms', \n",
    "             'Population', 'Average_Occupancy', 'Latitude', 'Longitude', 'Median_House_Value']\n",
    "\n",
    "# Display basic information about the dataset\n",
    "print(\"Dataset Shape:\", df.shape)\n",
    "print(\"\\nFeature Information:\")\n",
    "print(df.info())\n",
    "print(\"\\nSummary Statistics:\")\n",
    "print(df.describe())"
   ]
  },
  {
   "cell_type": "markdown",
   "id": "ec5fdb9f",
   "metadata": {},
   "source": [
    "## 2. Check for Missing Values\n",
    "Let's verify if there are any missing values in our dataset."
   ]
  },
  {
   "cell_type": "code",
   "execution_count": null,
   "id": "3ff18e73",
   "metadata": {},
   "outputs": [],
   "source": [
    "# Check for missing values\n",
    "missing_values = df.isnull().sum()\n",
    "print(\"Missing Values per Column:\")\n",
    "print(missing_values)"
   ]
  },
  {
   "cell_type": "markdown",
   "id": "43f96870",
   "metadata": {},
   "source": [
    "## 3. Feature Distributions\n",
    "Let's examine the distribution of each feature using histograms."
   ]
  },
  {
   "cell_type": "code",
   "execution_count": null,
   "id": "00a3e5d4",
   "metadata": {},
   "outputs": [],
   "source": [
    "# Create histograms for each feature\n",
    "plt.figure(figsize=(15, 10))\n",
    "\n",
    "for i, column in enumerate(df.columns, 1):\n",
    "    plt.subplot(3, 3, i)\n",
    "    sns.histplot(data=df, x=column, kde=True)\n",
    "    plt.title(f'Distribution of {column}')\n",
    "    plt.xticks(rotation=45)\n",
    "\n",
    "plt.tight_layout()\n",
    "plt.show()"
   ]
  },
  {
   "cell_type": "markdown",
   "id": "d67a3f1f",
   "metadata": {},
   "source": [
    "## 4. Correlation Analysis\n",
    "Let's analyze the correlations between features using a heatmap."
   ]
  },
  {
   "cell_type": "code",
   "execution_count": null,
   "id": "eb53e950",
   "metadata": {},
   "outputs": [],
   "source": [
    "# Calculate correlation matrix\n",
    "correlation_matrix = df.corr()\n",
    "\n",
    "# Create correlation heatmap\n",
    "plt.figure(figsize=(12, 8))\n",
    "sns.heatmap(correlation_matrix, annot=True, cmap='coolwarm', center=0)\n",
    "plt.title('Correlation Matrix of Features')\n",
    "plt.xticks(rotation=45)\n",
    "plt.yticks(rotation=45)\n",
    "plt.tight_layout()\n",
    "plt.show()\n",
    "\n",
    "# Print strongest correlations with house value\n",
    "correlations_with_price = correlation_matrix['Median_House_Value'].sort_values(ascending=False)\n",
    "print(\"\\nCorrelations with Median House Value:\")\n",
    "print(correlations_with_price)"
   ]
  },
  {
   "cell_type": "markdown",
   "id": "a38dd8e7",
   "metadata": {},
   "source": [
    "## 5. Geographic Distribution\n",
    "Finally, let's visualize the geographic distribution of house prices across California."
   ]
  },
  {
   "cell_type": "code",
   "execution_count": null,
   "id": "bdb36e4b",
   "metadata": {},
   "outputs": [],
   "source": [
    "# Create scatter plot of house prices on a map\n",
    "plt.figure(figsize=(12, 8))\n",
    "scatter = plt.scatter(df['Longitude'], df['Latitude'], \n",
    "                     c=df['Median_House_Value'], \n",
    "                     cmap='viridis', \n",
    "                     alpha=0.4)\n",
    "plt.colorbar(scatter, label='Median House Value')\n",
    "plt.title('Geographic Distribution of House Prices')\n",
    "plt.xlabel('Longitude')\n",
    "plt.ylabel('Latitude')\n",
    "plt.tight_layout()\n",
    "plt.show()"
   ]
  }
 ],
 "metadata": {
  "language_info": {
   "name": "python"
  }
 },
 "nbformat": 4,
 "nbformat_minor": 5
}
