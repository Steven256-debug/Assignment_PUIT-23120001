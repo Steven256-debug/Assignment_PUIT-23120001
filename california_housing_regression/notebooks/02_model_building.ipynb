{
 "cells": [
  {
   "cell_type": "markdown",
   "id": "073f4acf",
   "metadata": {},
   "source": [
    "# California Housing Price Prediction - Model Building\n",
    "\n",
    "This notebook focuses on building and evaluating a Linear Regression model for predicting California housing prices. We'll cover:\n",
    "1. Data preparation and preprocessing\n",
    "2. Model training\n",
    "3. Model evaluation\n",
    "4. Results visualization"
   ]
  },
  {
   "cell_type": "code",
   "execution_count": null,
   "id": "b2104416",
   "metadata": {},
   "outputs": [],
   "source": [
    "# Import required libraries\n",
    "import pandas as pd\n",
    "import numpy as np\n",
    "import matplotlib.pyplot as plt\n",
    "import seaborn as sns\n",
    "from sklearn.model_selection import train_test_split\n",
    "from sklearn.preprocessing import StandardScaler\n",
    "from sklearn.linear_model import LinearRegression\n",
    "from sklearn.metrics import mean_squared_error, mean_absolute_error, r2_score\n",
    "\n",
    "# Set style for visualizations\n",
    "plt.style.use('seaborn')\n",
    "sns.set_palette(\"husl\")"
   ]
  },
  {
   "cell_type": "markdown",
   "id": "18fe0b1e",
   "metadata": {},
   "source": [
    "## 1. Data Preparation\n",
    "Let's load and preprocess our dataset for model training."
   ]
  },
  {
   "cell_type": "code",
   "execution_count": null,
   "id": "e4746697",
   "metadata": {},
   "outputs": [],
   "source": [
    "# Load the dataset\n",
    "df = pd.read_csv('../data/california_housing.csv')\n",
    "\n",
    "# Split features and target\n",
    "X = df.drop('Median_House_Value', axis=1)\n",
    "y = df['Median_House_Value']\n",
    "\n",
    "# Split into training and testing sets\n",
    "X_train, X_test, y_train, y_test = train_test_split(X, y, test_size=0.2, random_state=42)\n",
    "\n",
    "# Scale the features\n",
    "scaler = StandardScaler()\n",
    "X_train_scaled = scaler.fit_transform(X_train)\n",
    "X_test_scaled = scaler.transform(X_test)\n",
    "\n",
    "print(\"Training set shape:\", X_train.shape)\n",
    "print(\"Testing set shape:\", X_test.shape)"
   ]
  },
  {
   "cell_type": "markdown",
   "id": "8ca743a2",
   "metadata": {},
   "source": [
    "## 2. Model Training\n",
    "Now let's train our Linear Regression model."
   ]
  },
  {
   "cell_type": "code",
   "execution_count": null,
   "id": "921ba597",
   "metadata": {},
   "outputs": [],
   "source": [
    "# Train the Linear Regression model\n",
    "model = LinearRegression()\n",
    "model.fit(X_train_scaled, y_train)\n",
    "\n",
    "# Make predictions\n",
    "y_pred = model.predict(X_test_scaled)\n",
    "\n",
    "# Print model coefficients\n",
    "coefficients = pd.DataFrame({\n",
    "    'Feature': X.columns,\n",
    "    'Coefficient': model.coef_\n",
    "})\n",
    "print(\"Model Coefficients:\")\n",
    "print(coefficients.sort_values(by='Coefficient', ascending=False))"
   ]
  },
  {
   "cell_type": "markdown",
   "id": "4d1f87b5",
   "metadata": {},
   "source": [
    "## 3. Model Evaluation\n",
    "Let's evaluate our model's performance using various metrics."
   ]
  },
  {
   "cell_type": "code",
   "execution_count": null,
   "id": "7713ee0f",
   "metadata": {},
   "outputs": [],
   "source": [
    "# Calculate evaluation metrics\n",
    "mse = mean_squared_error(y_test, y_pred)\n",
    "rmse = np.sqrt(mse)\n",
    "mae = mean_absolute_error(y_test, y_pred)\n",
    "r2 = r2_score(y_test, y_pred)\n",
    "\n",
    "print(\"Model Performance Metrics:\")\n",
    "print(f\"Mean Squared Error: {mse:.2f}\")\n",
    "print(f\"Root Mean Squared Error: {rmse:.2f}\")\n",
    "print(f\"Mean Absolute Error: {mae:.2f}\")\n",
    "print(f\"R-squared Score: {r2:.4f}\")"
   ]
  },
  {
   "cell_type": "markdown",
   "id": "11da0bc2",
   "metadata": {},
   "source": [
    "## 4. Results Visualization\n",
    "Let's create visualizations to better understand our model's performance."
   ]
  },
  {
   "cell_type": "code",
   "execution_count": null,
   "id": "bfa34934",
   "metadata": {},
   "outputs": [],
   "source": [
    "# 1. Actual vs Predicted Values Plot\n",
    "plt.figure(figsize=(10, 6))\n",
    "plt.scatter(y_test, y_pred, alpha=0.5)\n",
    "plt.plot([y_test.min(), y_test.max()], [y_test.min(), y_test.max()], 'r--', lw=2)\n",
    "plt.xlabel('Actual House Values')\n",
    "plt.ylabel('Predicted House Values')\n",
    "plt.title('Actual vs Predicted House Values')\n",
    "plt.tight_layout()\n",
    "plt.show()\n",
    "\n",
    "# 2. Residuals Plot\n",
    "residuals = y_test - y_pred\n",
    "plt.figure(figsize=(10, 6))\n",
    "plt.scatter(y_pred, residuals, alpha=0.5)\n",
    "plt.axhline(y=0, color='r', linestyle='--')\n",
    "plt.xlabel('Predicted House Values')\n",
    "plt.ylabel('Residuals')\n",
    "plt.title('Residuals Plot')\n",
    "plt.tight_layout()\n",
    "plt.show()\n",
    "\n",
    "# 3. Feature Importance Plot\n",
    "plt.figure(figsize=(12, 6))\n",
    "coefficients.sort_values(by='Coefficient', ascending=True).plot(x='Feature', y='Coefficient', kind='barh')\n",
    "plt.title('Feature Importance (Model Coefficients)')\n",
    "plt.xlabel('Standardized Coefficient')\n",
    "plt.tight_layout()\n",
    "plt.show()"
   ]
  },
  {
   "cell_type": "markdown",
   "id": "1a3982bf",
   "metadata": {},
   "source": [
    "## Model Summary\n",
    "Our linear regression model shows:\n",
    "1. The R-squared value indicates how much variance in house prices our model explains\n",
    "2. The RMSE and MAE give us the average prediction error in the same units as house prices\n",
    "3. Feature importance plot shows which factors have the strongest influence on house prices\n",
    "4. Residuals plot helps us verify the model's assumptions and identify any patterns in predictions"
   ]
  }
 ],
 "metadata": {
  "language_info": {
   "name": "python"
  }
 },
 "nbformat": 4,
 "nbformat_minor": 5
}
